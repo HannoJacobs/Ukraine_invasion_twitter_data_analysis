{
 "cells": [
  {
   "cell_type": "markdown",
   "metadata": {},
   "source": [
    "# Visualize the data"
   ]
  },
  {
   "cell_type": "code",
   "execution_count": 2,
   "metadata": {},
   "outputs": [
    {
     "name": "stdout",
     "output_type": "stream",
     "text": [
      "[['ukraine', 3098], ['russia', 1422], ['putin', 1235], ['war', 1191], ['standwithukraine', 793], ['nato', 628], ['russian', 596], ['peace', 569], ['world', 540], ['people', 527], ['today', 445], ['breaking', 437], ['kyiv', 406], ['news', 399], ['russians', 384], ['ukrainian', 361], ['help', 344], ['please', 344], ['them', 331], ['stop', 318], ['ukrainians', 318], ['children', 310], ['china', 310], ['country', 308], ['europe', 305], ['mariupol', 292], ['slavaukraini', 286], ['zelensky', 277], ['march', 271], ['sanctions', 271], ['president', 270], ['trump', 270], ['freedom', 267], ['covid', 265], ['out', 262], ['support', 260], ['love', 257], ['video', 255], ['nazis', 254], ['usa', 253], ['refugees', 252], ['russias', 252], ['days', 251], ['putins', 251], ['invasion', 249], ['civilians', 247], ['watch', 246], ['poland', 244], ['west', 244], ['biden', 242], ['right', 236], ['kharkiv', 234], ['go', 233], ['amp', 232], ['new', 232], ['uk', 232], ['good', 231], ['live', 228], ['gt', 225], ['well', 225], ['india', 224], ['oil', 224], ['home', 218], ['army', 216], ['year', 213], ['yes', 213], ['are', 212], ['democracy', 212], ['history', 211], ['him', 210], ['end', 207], ['countries', 206], ['dont', 206], ['ukraines', 206], ['life', 205], ['russiaukraine', 202], ['truth', 200], ['friends', 198], ['humanity', 198], ['soon', 198], ['propaganda', 197], ['rt', 197], ['america', 196], ['man', 195], ['god', 194], ['moscow', 193], ['thread', 191], ['win', 191], ['un', 190], ['genocide', 189], ['media', 189], ['ukrainewar', 189], ['weapons', 189], ['free', 188], ['from', 188], ['women', 187], ['power', 186], ['soldiers', 185], ['ukrainerussiawar', 185], ['conflict', 184]]\n"
     ]
    }
   ],
   "source": [
    "word_frequency_list = []\n",
    "\n",
    "file_path = \"/Users/hannojacobs/MIT805_datasets/mapreduced_tweet_fields/post_processed_tweet_fields/ordered_text_words.txt\"\n",
    "\n",
    "with open(file_path, \"r\") as file:\n",
    "    for line in file:\n",
    "        parts = line.strip().split()\n",
    "        if len(parts) == 2:\n",
    "            word = parts[0]\n",
    "            frequency = int(parts[1])\n",
    "            word_frequency_list.append([word, frequency])\n",
    "\n",
    "print(word_frequency_list[0:100])"
   ]
  },
  {
   "cell_type": "markdown",
   "metadata": {},
   "source": [
    "# Plot the most common words in a histogram"
   ]
  },
  {
   "cell_type": "code",
   "execution_count": 3,
   "metadata": {},
   "outputs": [
    {
     "name": "stdout",
     "output_type": "stream",
     "text": [
      "[['russia', 1422], ['putin', 1235], ['war', 1191], ['standwithukraine', 793], ['nato', 628], ['russian', 596], ['peace', 569], ['world', 540], ['people', 527], ['today', 445], ['breaking', 437], ['kyiv', 406], ['news', 399], ['russians', 384], ['ukrainian', 361], ['help', 344], ['please', 344], ['them', 331], ['stop', 318], ['ukrainians', 318], ['children', 310], ['china', 310], ['country', 308], ['europe', 305], ['mariupol', 292], ['slavaukraini', 286], ['zelensky', 277], ['march', 271], ['sanctions', 271]]\n"
     ]
    },
    {
     "data": {
      "image/png": "[encoded data removed]",
      "text/plain": [
       "<Figure size 864x432 with 1 Axes>"
      ]
     },
     "metadata": {
      "needs_background": "light"
     },
     "output_type": "display_data"
    }
   ],
   "source": [
    "import matplotlib.pyplot as plt\n",
    "\n",
    "print(word_frequency_list[1:30])\n",
    "\n",
    "num_words_to_take = 30\n",
    "top_X_words_and_freq = word_frequency_list[0:num_words_to_take-1]\n",
    "top_X_words, top_X_freq = zip(*top_X_words_and_freq)\n",
    "\n",
    "plt.figure(figsize=(12, 6))  # Adjust the figure size as needed\n",
    "plt.barh(top_X_words, top_X_freq, color='skyblue')\n",
    "plt.gca().invert_yaxis()  # Reverse the order to have the most common word at the top\n",
    "plt.xlabel('Frequency')\n",
    "plt.ylabel('Words')\n",
    "plt.title(f'Top {num_words_to_take} Words by Frequency')\n",
    "plt.tight_layout()\n",
    "plt.show()"
   ]
  },
  {
   "cell_type": "markdown",
   "metadata": {},
   "source": [
    "## Get average weighted sentiment of most common words"
   ]
  },
  {
   "cell_type": "code",
   "execution_count": 4,
   "metadata": {},
   "outputs": [
    {
     "name": "stdout",
     "output_type": "stream",
     "text": [
      "freq = 3098, word = ukraine, sentiment = 0.0\n",
      "freq = 1422, word = russia, sentiment = 0.0\n",
      "freq = 1235, word = putin, sentiment = 0.0\n",
      "freq = 1191, word = war, sentiment = 0.0\n",
      "freq = 793, word = standwithukraine, sentiment = 0.0\n",
      "freq = 628, word = nato, sentiment = 0.0\n",
      "freq = 596, word = russian, sentiment = 0.0\n",
      "freq = 569, word = peace, sentiment = 0.0\n",
      "freq = 540, word = world, sentiment = 0.0\n",
      "freq = 527, word = people, sentiment = 0.0\n",
      "freq = 445, word = today, sentiment = 0.0\n",
      "freq = 437, word = breaking, sentiment = 0.0\n",
      "freq = 406, word = kyiv, sentiment = 0.0\n",
      "freq = 399, word = news, sentiment = 0.0\n",
      "freq = 384, word = russians, sentiment = 0.0\n",
      "freq = 361, word = ukrainian, sentiment = 0.0\n",
      "freq = 344, word = help, sentiment = 0.0\n",
      "freq = 344, word = please, sentiment = 0.0\n",
      "freq = 331, word = them, sentiment = 0.0\n",
      "freq = 318, word = stop, sentiment = 0.0\n",
      "freq = 318, word = ukrainians, sentiment = 0.0\n",
      "freq = 310, word = children, sentiment = 0.0\n",
      "freq = 310, word = china, sentiment = 0.0\n",
      "freq = 308, word = country, sentiment = 0.0\n",
      "freq = 305, word = europe, sentiment = 0.0\n",
      "freq = 292, word = mariupol, sentiment = 0.0\n",
      "freq = 286, word = slavaukraini, sentiment = 0.0\n",
      "freq = 277, word = zelensky, sentiment = 0.0\n",
      "freq = 271, word = march, sentiment = 0.0\n",
      "freq = 271, word = sanctions, sentiment = 0.0\n",
      "freq = 270, word = president, sentiment = 0.0\n",
      "freq = 270, word = trump, sentiment = 0.0\n",
      "freq = 267, word = freedom, sentiment = 0.0\n",
      "freq = 265, word = covid, sentiment = 0.0\n",
      "freq = 262, word = out, sentiment = 0.0\n",
      "freq = 260, word = support, sentiment = 0.0\n",
      "freq = 257, word = love, sentiment = 0.5\n",
      "freq = 255, word = video, sentiment = 0.0\n",
      "freq = 254, word = nazis, sentiment = 0.0\n",
      "freq = 253, word = usa, sentiment = 0.0\n",
      "freq = 252, word = refugees, sentiment = 0.0\n",
      "freq = 252, word = russias, sentiment = 0.0\n",
      "freq = 251, word = days, sentiment = 0.0\n",
      "freq = 251, word = putins, sentiment = 0.0\n",
      "freq = 249, word = invasion, sentiment = 0.0\n",
      "freq = 247, word = civilians, sentiment = 0.0\n",
      "freq = 246, word = watch, sentiment = 0.0\n",
      "freq = 244, word = poland, sentiment = 0.0\n",
      "freq = 244, word = west, sentiment = 0.0\n",
      "freq = 242, word = biden, sentiment = 0.0\n",
      "freq = 236, word = right, sentiment = 0.2857142857142857\n",
      "freq = 234, word = kharkiv, sentiment = 0.0\n",
      "freq = 233, word = go, sentiment = 0.0\n",
      "freq = 232, word = amp, sentiment = 0.0\n",
      "freq = 232, word = new, sentiment = 0.13636363636363635\n",
      "freq = 232, word = uk, sentiment = 0.0\n",
      "freq = 231, word = good, sentiment = 0.7\n",
      "freq = 228, word = live, sentiment = 0.13636363636363635\n",
      "freq = 225, word = gt, sentiment = 0.0\n",
      "freq = 225, word = well, sentiment = 0.0\n",
      "freq = 224, word = india, sentiment = 0.0\n",
      "freq = 224, word = oil, sentiment = 0.0\n",
      "freq = 218, word = home, sentiment = 0.0\n",
      "freq = 216, word = army, sentiment = 0.0\n",
      "freq = 213, word = year, sentiment = 0.0\n",
      "freq = 213, word = yes, sentiment = 0.0\n",
      "freq = 212, word = are, sentiment = 0.0\n",
      "freq = 212, word = democracy, sentiment = 0.0\n",
      "freq = 211, word = history, sentiment = 0.0\n",
      "freq = 210, word = him, sentiment = 0.0\n",
      "freq = 207, word = end, sentiment = 0.0\n",
      "freq = 206, word = countries, sentiment = 0.0\n",
      "freq = 206, word = dont, sentiment = 0.0\n",
      "freq = 206, word = ukraines, sentiment = 0.0\n",
      "freq = 205, word = life, sentiment = 0.0\n",
      "freq = 202, word = russiaukraine, sentiment = 0.0\n",
      "freq = 200, word = truth, sentiment = 0.0\n",
      "freq = 198, word = friends, sentiment = 0.0\n",
      "freq = 198, word = humanity, sentiment = 0.0\n",
      "freq = 198, word = soon, sentiment = 0.0\n",
      "freq = 197, word = propaganda, sentiment = -0.1\n",
      "freq = 197, word = rt, sentiment = 0.0\n",
      "freq = 196, word = america, sentiment = 0.0\n",
      "freq = 195, word = man, sentiment = 0.0\n",
      "freq = 194, word = god, sentiment = 0.0\n",
      "freq = 193, word = moscow, sentiment = 0.0\n",
      "freq = 191, word = thread, sentiment = 0.0\n",
      "freq = 191, word = win, sentiment = 0.8\n",
      "freq = 190, word = un, sentiment = 0.0\n",
      "freq = 189, word = genocide, sentiment = 0.0\n",
      "freq = 189, word = media, sentiment = 0.0\n",
      "freq = 189, word = ukrainewar, sentiment = 0.0\n",
      "freq = 189, word = weapons, sentiment = 0.0\n",
      "freq = 188, word = free, sentiment = 0.4\n",
      "freq = 188, word = from, sentiment = 0.0\n",
      "freq = 187, word = women, sentiment = 0.0\n",
      "freq = 186, word = power, sentiment = 0.0\n",
      "freq = 185, word = soldiers, sentiment = 0.0\n",
      "freq = 185, word = ukrainerussiawar, sentiment = 0.0\n"
     ]
    }
   ],
   "source": [
    "from textblob import TextBlob\n",
    "\n",
    "# take the most common 100 words and get their total sentiment\n",
    "num_words_to_take = 100\n",
    "top_X_words_and_freq = word_frequency_list[0:num_words_to_take-1]\n",
    "\n",
    "# get the weighted average sentiment\n",
    "total_unweighted_sentiment = 0\n",
    "total_weighted_sentiment = 0\n",
    "total_occurances_of_words = 0\n",
    "for word, freq in top_X_words_and_freq:\n",
    "    blob = TextBlob(word)\n",
    "    word_sentiment = blob.sentiment.polarity\n",
    "    total_unweighted_sentiment += word_sentiment\n",
    "    total_weighted_sentiment += word_sentiment*freq\n",
    "    total_occurances_of_words += freq\n",
    "    print(f\"freq = {freq}, word = {word}, sentiment = {word_sentiment}\")"
   ]
  },
  {
   "cell_type": "markdown",
   "metadata": {},
   "source": [
    "## Show the average sentiments"
   ]
  },
  {
   "cell_type": "code",
   "execution_count": 5,
   "metadata": {},
   "outputs": [
    {
     "name": "stdout",
     "output_type": "stream",
     "text": [
      "avg_weighted_sentiment = 0.019335522534243046\n",
      "avg_unweighted_sentiment = 0.028584415584415584\n"
     ]
    }
   ],
   "source": [
    "avg_weighted_sentiment = total_weighted_sentiment/total_occurances_of_words\n",
    "avg_unweighted_sentiment = total_unweighted_sentiment/num_words_to_take\n",
    "print(f\"avg_weighted_sentiment = {avg_weighted_sentiment}\")\n",
    "print(f\"avg_unweighted_sentiment = {avg_unweighted_sentiment}\")"
   ]
  },
  {
   "cell_type": "markdown",
   "metadata": {},
   "source": [
    "Here the average sentiments are both positive which is not what we would expect in war time.\n",
    "\n",
    "However, if we take a look at the printed sentiments for each of the words above, most have no sentiment related to them and are neutral.\n",
    "\n",
    "Therefore, this analysis is somewhat pointless."
   ]
  }
 ],
 "metadata": {
  "kernelspec": {
   "display_name": "base",
   "language": "python",
   "name": "python3"
  },
  "language_info": {
   "codemirror_mode": {
    "name": "ipython",
    "version": 3
   },
   "file_extension": ".py",
   "mimetype": "text/x-python",
   "name": "python",
   "nbconvert_exporter": "python",
   "pygments_lexer": "ipython3",
   "version": "3.9.7"
  },
  "orig_nbformat": 4
 },
 "nbformat": 4,
 "nbformat_minor": 2
}
