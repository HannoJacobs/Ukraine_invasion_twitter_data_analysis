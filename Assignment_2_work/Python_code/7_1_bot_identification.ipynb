{
 "cells": [
  {
   "cell_type": "markdown",
   "metadata": {},
   "source": [
    "# Bot identification\n",
    "1) Identify the most likely bot accounts\n",
    "2) Get their locations\n",
    "\n",
    "## Assumptions\n",
    "1) Any account with more than an average of 100 tweets per day is a bot\n",
    "    * Therefore I will say that accounts with more than 100*365~=35000 tweets per year is a bot.\n",
    "    * Take the number of years the user has been on the platform (num_years_on_twitter = 2022-usercreatedts[\"year\"] + 1)\n",
    "    * If totaltweets > (num_years_on_twitter*35000): Bot = True"
   ]
  },
  {
   "cell_type": "markdown",
   "metadata": {},
   "source": [
    "# Read all the data into a df"
   ]
  },
  {
   "cell_type": "code",
   "execution_count": 16,
   "metadata": {},
   "outputs": [
    {
     "name": "stdout",
     "output_type": "stream",
     "text": [
      "  Unnamed: 0               userid         username  \\\n",
      "0    3544308            454230077       veronicae9   \n",
      "1    3544309  1166381062248783874  forcemultstevea   \n",
      "2    3544310            159230211       tammytabby   \n",
      "3    3544311  1498015615881302016  ArthurC54762353   \n",
      "4    3544312   867157331494268929    GideonNeptune   \n",
      "\n",
      "                                            acctdesc         location  \\\n",
      "0                                                NaN           madrid   \n",
      "1  AI startup advisor 'force multiplier' who shap...       Olympia WA   \n",
      "2  Native of New York City, NY. \\nConservative.\\n...        Georgia     \n",
      "3                                                NaN              NaN   \n",
      "4  Heard expert say “30% of a given population at...  Here, right now   \n",
      "\n",
      "  following  followers totaltweets               usercreatedts  \\\n",
      "0    3546.0     1459.0    119958.0  2012-01-03 19:23:33.000000   \n",
      "1    1020.0      731.0    101791.0  2019-08-27 16:05:01.000000   \n",
      "2   15602.0    15597.0    411214.0  2010-06-24 20:40:35.000000   \n",
      "3       1.0        3.0       394.0  2022-02-27 19:23:16.000000   \n",
      "4   14199.0    12827.0    134139.0  2017-05-23 23:16:33.000000   \n",
      "\n",
      "                 tweetid       tweetcreatedts retweetcount  \\\n",
      "0  1500984943371030528.0  2022-03-08 00:01:12         35.0   \n",
      "1  1500984943639289856.0  2022-03-08 00:01:12         32.0   \n",
      "2  1500984943668834304.0  2022-03-08 00:01:12         79.0   \n",
      "3  1500984944117620736.0  2022-03-08 00:01:12         30.0   \n",
      "4  1500984944222478336.0  2022-03-08 00:01:12        127.0   \n",
      "\n",
      "                                                text  \\\n",
      "0  Guillaume Briquet herido y hospitalizado en #M...   \n",
      "1  \"Kyiv Ghost\" shot down the #Russian Caliber cr...   \n",
      "2  #China wants to mediate the #Ukraine war to re...   \n",
      "3  Russian soldiers killed the parents of a 17-ye...   \n",
      "4  If 80-year-old Ukrainian women are using their...   \n",
      "\n",
      "                                            hashtags language coordinates  \\\n",
      "0        [{'text': 'Mykolaev', 'indices': [60, 69]}]       es         NaN   \n",
      "1  [{'text': 'Russian', 'indices': [45, 53]}, {'t...       en         NaN   \n",
      "2  [{'text': 'China', 'indices': [18, 24]}, {'tex...       en         NaN   \n",
      "3                                                 []       en         NaN   \n",
      "4                                                 []       en         NaN   \n",
      "\n",
      "   favorite_count                 extractedts  \n",
      "0             0.0  2022-03-08 00:07:18.782816  \n",
      "1             0.0  2022-03-08 00:07:18.766227  \n",
      "2             0.0  2022-03-08 00:07:18.758033  \n",
      "3             0.0  2022-03-08 00:07:18.749824  \n",
      "4             0.0  2022-03-08 00:07:18.741431  \n",
      "Index(['Unnamed: 0', 'userid', 'username', 'acctdesc', 'location', 'following',\n",
      "       'followers', 'totaltweets', 'usercreatedts', 'tweetid',\n",
      "       'tweetcreatedts', 'retweetcount', 'text', 'hashtags', 'language',\n",
      "       'coordinates', 'favorite_count', 'extractedts'],\n",
      "      dtype='object')\n"
     ]
    }
   ],
   "source": [
    "import pandas as pd\n",
    "\n",
    "pkl_path = \"/Users/hannojacobs/MIT805_datasets/Ukraine_full.pkl\"\n",
    "\n",
    "# Load the csv from a pkl file\n",
    "df = pd.read_pickle(pkl_path)\n",
    "print(df.head())\n",
    "print(df.columns)"
   ]
  },
  {
   "cell_type": "markdown",
   "metadata": {},
   "source": [
    "## Do some preprocessing\n",
    "\n",
    "### Remove unwanted columns"
   ]
  },
  {
   "cell_type": "code",
   "execution_count": 17,
   "metadata": {},
   "outputs": [
    {
     "name": "stdout",
     "output_type": "stream",
     "text": [
      "          location following  followers totaltweets  \\\n",
      "0           madrid    3546.0     1459.0    119958.0   \n",
      "1       Olympia WA    1020.0      731.0    101791.0   \n",
      "2        Georgia     15602.0    15597.0    411214.0   \n",
      "3              NaN       1.0        3.0       394.0   \n",
      "4  Here, right now   14199.0    12827.0    134139.0   \n",
      "\n",
      "                usercreatedts       tweetcreatedts retweetcount  \\\n",
      "0  2012-01-03 19:23:33.000000  2022-03-08 00:01:12         35.0   \n",
      "1  2019-08-27 16:05:01.000000  2022-03-08 00:01:12         32.0   \n",
      "2  2010-06-24 20:40:35.000000  2022-03-08 00:01:12         79.0   \n",
      "3  2022-02-27 19:23:16.000000  2022-03-08 00:01:12         30.0   \n",
      "4  2017-05-23 23:16:33.000000  2022-03-08 00:01:12        127.0   \n",
      "\n",
      "                                                text language  favorite_count  \\\n",
      "0  Guillaume Briquet herido y hospitalizado en #M...       es             0.0   \n",
      "1  \"Kyiv Ghost\" shot down the #Russian Caliber cr...       en             0.0   \n",
      "2  #China wants to mediate the #Ukraine war to re...       en             0.0   \n",
      "3  Russian soldiers killed the parents of a 17-ye...       en             0.0   \n",
      "4  If 80-year-old Ukrainian women are using their...       en             0.0   \n",
      "\n",
      "                  extractedts  \n",
      "0  2022-03-08 00:07:18.782816  \n",
      "1  2022-03-08 00:07:18.766227  \n",
      "2  2022-03-08 00:07:18.758033  \n",
      "3  2022-03-08 00:07:18.749824  \n",
      "4  2022-03-08 00:07:18.741431  \n",
      "\n",
      "\n",
      " columns left =\n",
      "Index(['location', 'following', 'followers', 'totaltweets', 'usercreatedts',\n",
      "       'tweetcreatedts', 'retweetcount', 'text', 'language', 'favorite_count',\n",
      "       'extractedts'],\n",
      "      dtype='object')\n"
     ]
    }
   ],
   "source": [
    "columns_to_keep = [ \n",
    "                    \"location\",\n",
    "                    \"following\",\n",
    "                    \"followers\",\n",
    "                    \"totaltweets\",\n",
    "                    \"usercreatedts\",\n",
    "                    \"tweetcreatedts\",\n",
    "                    \"retweetcount\",\n",
    "                    \"text\",\n",
    "                    \"language\",\n",
    "                    \"favorite_count\",\n",
    "                    \"extractedts\",\n",
    "                    ]\n",
    "df = df.reindex(columns=columns_to_keep)\n",
    "print(df.head())\n",
    "print(f\"\\n\\n columns left =\\n{df.columns}\")"
   ]
  },
  {
   "cell_type": "markdown",
   "metadata": {},
   "source": [
    "### Remove all non-english tweets"
   ]
  },
  {
   "cell_type": "code",
   "execution_count": 18,
   "metadata": {},
   "outputs": [
    {
     "name": "stdout",
     "output_type": "stream",
     "text": [
      "len df all languages = 14000000\n",
      "len df only english = 4506126\n"
     ]
    }
   ],
   "source": [
    "# drop all tweets where the language is not english\n",
    "print(f\"len df all languages = {len(df)}\")\n",
    "df = df[df['language'] == 'en']\n",
    "print(f\"len df only english = {len(df)}\")\n"
   ]
  },
  {
   "cell_type": "markdown",
   "metadata": {},
   "source": [
    "### Drop all missing elements"
   ]
  },
  {
   "cell_type": "code",
   "execution_count": 19,
   "metadata": {},
   "outputs": [
    {
     "name": "stdout",
     "output_type": "stream",
     "text": [
      "len(df) = 2692986\n"
     ]
    }
   ],
   "source": [
    "# drop all missing elements\n",
    "df_cleaned = df.dropna()\n",
    "df = df_cleaned\n",
    "del df_cleaned\n",
    "print(f\"len(df) = {len(df)}\")"
   ]
  },
  {
   "cell_type": "markdown",
   "metadata": {},
   "source": [
    "### Write this df to pkl"
   ]
  },
  {
   "cell_type": "code",
   "execution_count": 20,
   "metadata": {},
   "outputs": [
    {
     "name": "stdout",
     "output_type": "stream",
     "text": [
      "Done writing to pkl.\n",
      "pkl file: /Users/hannojacobs/MIT805_datasets/Ukraine_preprocessed_1.pkl\n"
     ]
    }
   ],
   "source": [
    "pkl_file_path = \"/Users/hannojacobs/MIT805_datasets/Ukraine_preprocessed_1.pkl\"\n",
    "df.to_pickle(pkl_file_path)\n",
    "print(f\"Done writing to pkl.\")\n",
    "print(f\"pkl file: {pkl_file_path}\")"
   ]
  },
  {
   "cell_type": "markdown",
   "metadata": {},
   "source": [
    "### Get account ages"
   ]
  },
  {
   "cell_type": "code",
   "execution_count": 21,
   "metadata": {},
   "outputs": [
    {
     "name": "stdout",
     "output_type": "stream",
     "text": [
      "error_in_line_count = 0\n",
      "Index(['location', 'following', 'followers', 'totaltweets', 'usercreatedts',\n",
      "       'tweetcreatedts', 'retweetcount', 'text', 'language', 'favorite_count',\n",
      "       'extractedts', 'account_age'],\n",
      "      dtype='object')\n"
     ]
    }
   ],
   "source": [
    "from datetime import datetime\n",
    "import numpy as np\n",
    "\n",
    "error_in_line_count = 0\n",
    "account_age = []\n",
    "for row_index in range(len(df)):\n",
    "    # if row_index > 1e5:\n",
    "    #     break\n",
    "    try:\n",
    "        usercreatedts_value = df.iloc[row_index, df.columns.get_loc(\"usercreatedts\")]\n",
    "        account_creation_date = datetime.strptime(usercreatedts_value, \"%Y-%m-%d %H:%M:%S.%f\")\n",
    "        current_date = datetime.now()\n",
    "        time_difference = (current_date - account_creation_date).total_seconds()\n",
    "        account_age_in_years = round(float(time_difference / (365.25 * 24 * 60 * 60)),2)\n",
    "        account_age.append(account_age_in_years)\n",
    "        # print(f\"account_age_in_years = {account_age_in_years} \\t usercreatedts_value = {usercreatedts_value}\")\n",
    "    except Exception as e:\n",
    "        error_in_line_count += 1\n",
    "        account_age.append(\"Error_in_line\")\n",
    "\n",
    "print(f\"error_in_line_count = {error_in_line_count}\")\n",
    "\n",
    "# add this to the dataframe\n",
    "df[\"account_age\"] = account_age\n",
    "\n",
    "print(df.columns)"
   ]
  },
  {
   "cell_type": "markdown",
   "metadata": {},
   "source": [
    "### Drop all \"Error_in_line\" ages"
   ]
  },
  {
   "cell_type": "code",
   "execution_count": 22,
   "metadata": {},
   "outputs": [
    {
     "name": "stdout",
     "output_type": "stream",
     "text": [
      "len(df) before drop = 2692986\n",
      "len(df) after drop = 2692986\n",
      "Done writing to pkl.\n",
      "pkl file: /Users/hannojacobs/MIT805_datasets/Ukraine_preprocessed_2.pkl\n"
     ]
    }
   ],
   "source": [
    "print(f\"len(df) before drop = {len(df)}\")\n",
    "df = df[df['account_age'] != 'Error_in_line']\n",
    "df.reset_index(drop=True, inplace=True)\n",
    "print(f\"len(df) after drop = {len(df)}\")\n",
    "\n",
    "pkl_file_path = \"/Users/hannojacobs/MIT805_datasets/Ukraine_preprocessed_2.pkl\"\n",
    "df.to_pickle(pkl_file_path)\n",
    "print(f\"Done writing to pkl.\")\n",
    "print(f\"pkl file: {pkl_file_path}\")"
   ]
  },
  {
   "cell_type": "markdown",
   "metadata": {},
   "source": [
    "## Determine likely bot indexes by num_tweets\n",
    "\n",
    "1) Any account with more than an average of 100 tweets per day is a bot\n",
    "    * Therefore I will say that accounts with more than 100*365~=35000 tweets per year is a bot.\n",
    "    * Take the number of years the user has been on the platform (num_years_on_twitter = 2022-usercreatedts[\"year\"] + 1)\n",
    "    * If totaltweets > (num_years_on_twitter*35000): Bot = True"
   ]
  },
  {
   "cell_type": "code",
   "execution_count": 23,
   "metadata": {},
   "outputs": [
    {
     "name": "stdout",
     "output_type": "stream",
     "text": [
      "error_in_line_count = 1387391\n",
      "Index(['location', 'following', 'followers', 'totaltweets', 'usercreatedts',\n",
      "       'tweetcreatedts', 'retweetcount', 'text', 'language', 'favorite_count',\n",
      "       'extractedts', 'account_age', 'likely_bot_by_num_messages'],\n",
      "      dtype='object')\n",
      "Done writing to pkl.\n",
      "pkl file: /Users/hannojacobs/MIT805_datasets/Ukraine_preprocessed_3.pkl\n"
     ]
    }
   ],
   "source": [
    "error_in_line_count = 0\n",
    "likely_bot_by_num_messages = []\n",
    "for row_index in range(len(df)):\n",
    "    # if row_index > 1e2:\n",
    "    #     break\n",
    "    try:\n",
    "        account_age_value = df.iloc[row_index, df.columns.get_loc(\"account_age\")]\n",
    "        total_num_tweets = df.iloc[row_index, df.columns.get_loc(\"totaltweets\")]\n",
    "\n",
    "        allowed_tweets_per_year = 50 * 365\n",
    "        max_allowed_tweets = int(account_age_value * allowed_tweets_per_year)\n",
    "\n",
    "        likely_bot = False\n",
    "        if total_num_tweets > max_allowed_tweets:\n",
    "            likely_bot = True\n",
    "        \n",
    "        likely_bot_by_num_messages.append(likely_bot)\n",
    "        # print(f\"account_age_value = {account_age_value} \\t total_num_tweets = {total_num_tweets} \\t likely_bot = {likely_bot}\")\n",
    "    except Exception as e:\n",
    "        error_in_line_count += 1\n",
    "        likely_bot_by_num_messages.append(\"Error_in_line\")\n",
    "\n",
    "\n",
    "print(f\"error_in_line_count = {error_in_line_count}\")\n",
    "\n",
    "# add this to the dataframe\n",
    "df[\"likely_bot_by_num_messages\"] = likely_bot_by_num_messages\n",
    "\n",
    "print(df.columns)\n",
    "\n",
    "pkl_file_path = \"/Users/hannojacobs/MIT805_datasets/Ukraine_preprocessed_3.pkl\"\n",
    "df.to_pickle(pkl_file_path)\n",
    "print(f\"Done writing to pkl.\")\n",
    "print(f\"pkl file: {pkl_file_path}\")"
   ]
  },
  {
   "cell_type": "code",
   "execution_count": 24,
   "metadata": {},
   "outputs": [
    {
     "name": "stdout",
     "output_type": "stream",
     "text": [
      "len(df) before drop = 2692986\n",
      "len(df) after drop = 1305595\n",
      "Done writing to pkl.\n",
      "pkl file: /Users/hannojacobs/MIT805_datasets/Ukraine_preprocessed_4.pkl\n"
     ]
    }
   ],
   "source": [
    "print(f\"len(df) before drop = {len(df)}\")\n",
    "\n",
    "df = df[df['likely_bot_by_num_messages'] != 'Error_in_line']\n",
    "df.reset_index(drop=True, inplace=True)\n",
    "print(f\"len(df) after drop = {len(df)}\")\n",
    "\n",
    "pkl_file_path = \"/Users/hannojacobs/MIT805_datasets/Ukraine_preprocessed_4.pkl\"\n",
    "df.to_pickle(pkl_file_path)\n",
    "print(f\"Done writing to pkl.\")\n",
    "print(f\"pkl file: {pkl_file_path}\")"
   ]
  },
  {
   "cell_type": "markdown",
   "metadata": {},
   "source": [
    "### Count the likely number of bots"
   ]
  },
  {
   "cell_type": "code",
   "execution_count": 25,
   "metadata": {},
   "outputs": [
    {
     "name": "stdout",
     "output_type": "stream",
     "text": [
      "likely_count_bot_messages_by_num_messages = 131737\n",
      "percentage_messages_likely_bots_by_num_messages = 10.09%\n"
     ]
    }
   ],
   "source": [
    "likely_count_bot_messages_by_num_messages = df['likely_bot_by_num_messages'].sum()\n",
    "print(f\"likely_count_bot_messages_by_num_messages = {likely_count_bot_messages_by_num_messages}\")\n",
    "percentage_messages_likely_bot_by_num_messages = round(likely_count_bot_messages_by_num_messages/len(df)*100,2)\n",
    "print(f\"percentage_messages_likely_bots_by_num_messages = {percentage_messages_likely_bot_by_num_messages}%\")"
   ]
  },
  {
   "cell_type": "markdown",
   "metadata": {},
   "source": [
    "### Where do most bot messages come from?"
   ]
  },
  {
   "cell_type": "code",
   "execution_count": 26,
   "metadata": {},
   "outputs": [
    {
     "name": "stdout",
     "output_type": "stream",
     "text": [
      "California, USA\n",
      "Dallas,TX\n",
      "背景「アベ・スガ政権の失政により破壊された日本」（心象風景）\n",
      "KittyVille 🇬🇧\n",
      "United States\n",
      "AlfinalDelTunelHayluz\n",
      "Washington, DC\n",
      "So Cali\n",
      "California, USA\n",
      "E. Coast via W. Coast via WI\n",
      "Johannesburg, South Africa\n",
      "Seoul, Republic of Korea\n",
      "So Cali\n",
      "Seoul, Republic of Korea\n",
      "La La Land Evidently\n",
      "Syria\n",
      "Not in Gina \n",
      "Denver Colorado\n",
      "Texas, USA\n",
      "Dayton  #Texas, 77535\n",
      "California\n",
      "California\n",
      "KittyVille 🇬🇧\n",
      "Middle-California\n",
      "Rouen\n",
      "SC\n",
      "World Wide\n",
      "Benito Juárez\n",
      "Earthball (Right now: Germany)\n",
      "Seb gorkas brain\n"
     ]
    }
   ],
   "source": [
    "likely_bot_df = df[df['likely_bot_by_num_messages'] == True]\n",
    "likely_bot_df.reset_index(drop=True, inplace=True)\n",
    "\n",
    "list_of_locations = likely_bot_df[\"location\"].tolist()\n",
    "\n",
    "# print some locations\n",
    "a = 55\n",
    "for i in range(a, a+30):\n",
    "    print(list_of_locations[i])\n"
   ]
  },
  {
   "cell_type": "markdown",
   "metadata": {},
   "source": [
    "### Remove all not a-z characters from \"list_of_locations\""
   ]
  },
  {
   "cell_type": "code",
   "execution_count": 27,
   "metadata": {},
   "outputs": [
    {
     "name": "stdout",
     "output_type": "stream",
     "text": [
      "len(list_of_locations) = 131737\n",
      "len(list_of_locations) = 131737\n",
      "OlympiaWA\n",
      "Georgia\n",
      "Hererightnow\n",
      "HoustonandNYC\n",
      "Syria\n",
      "Ayr\n",
      "KildonanStPaulWinnipegMB\n",
      "WESTERNNEWYORK\n",
      "ColumbusnativeSEOhionow\n",
      "Syria\n",
      "FatBitch\n",
      "ArdenArcadeCA\n",
      "TheMaritimes\n",
      "FatBitch\n",
      "DaytonTexas\n",
      "HyderabadIndia\n",
      "Northofnowhere\n",
      "SantiagodeCompostela\n",
      "VenezuelaCaracasCaricuao\n",
      "Syria\n",
      "KailuaHI\n",
      "\n",
      "DaytonTexas\n",
      "algunlugardelplaneta\n",
      "StateofConfusion\n",
      "Syria\n",
      "LosAngelesCA\n",
      "PEOPLESREPUBLICofNATOSTAN\n",
      "LaLaLandEvidently\n",
      "SiliconValleyCA\n",
      "TennesseeUSA\n",
      "WoodburyMN\n",
      "MorningtonPeninsulaMelbourne\n",
      "london\n",
      "MissouriUSA\n",
      "MaracayVenezuela\n",
      "HonoluluOahuHawaii\n",
      "CanadaBritishColumbiaPortCoquitlam\n",
      "stanbulTrkiye\n",
      "KailuaHI\n",
      "Syria\n",
      "Phillyburbs\n",
      "\n",
      "EverettWA\n",
      "stanbulTrkiye\n",
      "FloridaUSA\n",
      "ColumbiaShuswapC\n",
      "CaliforniabywayofBelize\n",
      "MesquiteTexas\n",
      "NSWAustralia\n"
     ]
    }
   ],
   "source": [
    "import re\n",
    "\n",
    "def remove_non_alphabetic(input_string):\n",
    "    return re.sub(r'[^a-zA-Z]', '', input_string)\n",
    "\n",
    "print(f\"len(list_of_locations) = {len(list_of_locations)}\")\n",
    "cleaned_locations = [remove_non_alphabetic(location) for location in list_of_locations]\n",
    "list_of_locations = cleaned_locations\n",
    "print(f\"len(list_of_locations) = {len(list_of_locations)}\")\n",
    "\n",
    "# make all lowercase\n",
    "for i in list_of_locations:\n",
    "    i = i.lower()\n",
    "\n",
    "for i in range(0,50):\n",
    "    print(list_of_locations[i])"
   ]
  },
  {
   "cell_type": "markdown",
   "metadata": {},
   "source": [
    "## Write the Locations to a txt file which can be mapreduced"
   ]
  },
  {
   "cell_type": "code",
   "execution_count": 28,
   "metadata": {},
   "outputs": [
    {
     "name": "stdout",
     "output_type": "stream",
     "text": [
      "Locations written to /Users/hannojacobs/MIT805_datasets/mapreduced_tweet_fields/post_processed_tweet_fields/bot_unreduced_locations.txt\n"
     ]
    }
   ],
   "source": [
    "output_file_path = \"/Users/hannojacobs/MIT805_datasets/mapreduced_tweet_fields/post_processed_tweet_fields/bot_unreduced_locations.txt\"\n",
    "\n",
    "# Open the file in write mode and write each location on a new line\n",
    "with open(output_file_path, 'w') as file:\n",
    "    for location in list_of_locations:\n",
    "        file.write(location.lower() + '\\n')\n",
    "\n",
    "print(f\"Locations written to {output_file_path}\")"
   ]
  },
  {
   "cell_type": "markdown",
   "metadata": {},
   "source": [
    "## Now mapreduce that file and get the most common locations"
   ]
  },
  {
   "cell_type": "code",
   "execution_count": 29,
   "metadata": {},
   "outputs": [
    {
     "name": "stdout",
     "output_type": "stream",
     "text": [
      "[['india', '3350'], 3350]\n",
      "[['unitedstates', '2972'], 2972]\n",
      "[['usa', '1759'], 1759]\n",
      "[['californiausa', '1181'], 1181]\n",
      "[['floridausa', '1083'], 1083]\n",
      "[['australia', '1017'], 1017]\n",
      "[['canada', '937'], 937]\n",
      "[['uk', '932'], 932]\n",
      "[['london', '812'], 812]\n",
      "[['yes', '807'], 807]\n",
      "[['japan', '771'], 771]\n",
      "[['londonengland', '769'], 769]\n",
      "[['planetearth', '705'], 705]\n",
      "[['texasusa', '685'], 685]\n",
      "[['tokyo', '659'], 659]\n",
      "[['losangelesca', '600'], 600]\n",
      "[['earth', '589'], 589]\n",
      "[['newdelhiindia', '587'], 587]\n",
      "[['englandunitedkingdom', '570'], 570]\n",
      "[['newyorkusa', '548'], 548]\n",
      "[['riga', '519'], 519]\n",
      "[['unitedkingdom', '518'], 518]\n",
      "[['internet', '510'], 510]\n",
      "[['appisnowavailable', '486'], 486]\n",
      "[['losangeles', '484'], 484]\n",
      "[['washingtondc', '440'], 440]\n",
      "[['berlingermany', '428'], 428]\n",
      "[['poland', '428'], 428]\n",
      "[['portlandoregon', '425'], 425]\n",
      "[['olympiawa', '416'], 416]\n",
      "[['kualalumpurmalaysia', '409'], 409]\n",
      "[['ohiousa', '404'], 404]\n",
      "[['wisconsinusa', '404'], 404]\n",
      "[['londonuk', '399'], 399]\n",
      "[['worldwide', '383'], 383]\n",
      "[['world', '374'], 374]\n",
      "[['indonesia', '373'], 373]\n",
      "[['roshhaayin', '362'], 362]\n",
      "[['worldwidechile', '350'], 350]\n",
      "[['scotland', '348'], 348]\n",
      "[['mumbaiindia', '332'], 332]\n",
      "[['lostintheminnesotanorthwoods', '326'], 326]\n",
      "[['northcarolinausa', '323'], 323]\n",
      "[['pennsylvaniausa', '321'], 321]\n",
      "[['everywhere', '315'], 315]\n",
      "[['vancouverbc', '306'], 306]\n",
      "[['germany', '305'], 305]\n",
      "[['europe', '304'], 304]\n",
      "[['newjerseyusa', '303'], 303]\n",
      "[['israel', '295'], 295]\n",
      "[['westregionsingapore', '293'], 293]\n",
      "[['massachusettsusa', '290'], 290]\n",
      "[['eastgwillimburyontario', '288'], 288]\n",
      "[['chicagoil', '278'], 278]\n",
      "[['littlerockar', '273'], 273]\n",
      "[['florida', '271'], 271]\n",
      "[['hyderabadindia', '271'], 271]\n",
      "[['londonunitedkingdom', '266'], 266]\n",
      "[['colorado', '264'], 264]\n",
      "[['georgiausa', '261'], 261]\n",
      "[['italia', '261'], 261]\n",
      "[['newyorkny', '261'], 261]\n",
      "[['texas', '259'], 259]\n",
      "[['srilanka', '258'], 258]\n",
      "[['torontocanada', '258'], 258]\n",
      "[['barcelona', '252'], 252]\n",
      "[['minnesotausa', '252'], 252]\n",
      "[['california', '246'], 246]\n",
      "[['arizonausa', '245'], 245]\n",
      "[['dallastx', '244'], 244]\n",
      "[['inyourmindnow', '243'], 243]\n",
      "[['ethiopia', '237'], 237]\n",
      "[['joindemvoicepoliticsnature', '237'], 237]\n",
      "[['newyork', '236'], 236]\n",
      "[['kyivukraine', '235'], 235]\n",
      "[['washingtonusa', '225'], 225]\n",
      "[['greece', '224'], 224]\n",
      "[['newdelhi', '223'], 223]\n",
      "[['america', '219'], 219]\n",
      "[['marylandusa', '216'], 216]\n",
      "[['sandiegoca', '216'], 216]\n",
      "[['southerncalifornia', '215'], 215]\n",
      "[['durhamengland', '214'], 214]\n",
      "[['venezuela', '214'], 214]\n",
      "[['sanfranciscoca', '213'], 213]\n",
      "[['tucsonaz', '212'], 212]\n",
      "[['coloradousa', '207'], 207]\n",
      "[['timbuktu', '205'], 205]\n",
      "[['illinoisusa', '201'], 201]\n",
      "[['ontariocanada', '201'], 201]\n",
      "[['panam', '200'], 200]\n",
      "[['helsinkifinland', '199'], 199]\n",
      "[['portugal', '199'], 199]\n",
      "[['caracasvenezuela', '197'], 197]\n",
      "[['michiganusa', '197'], 197]\n",
      "[['warszawapolska', '194'], 194]\n",
      "[['alabamausa', '193'], 193]\n",
      "[['vastseliinaeesti', '193'], 193]\n",
      "[['nairobikenya', '191'], 191]\n",
      "[['polska', '189'], 189]\n"
     ]
    }
   ],
   "source": [
    "reduced_locations = file_path = \"/Users/hannojacobs/MIT805_datasets/mapreduced_tweet_fields/post_processed_tweet_fields/bot_reduced_locations.txt\"\n",
    "\n",
    "\n",
    "word_frequencies_list = []\n",
    "with open(file_path, 'r') as file:\n",
    "    for line in file:\n",
    "        parts = re.split(r'\\s+', line.strip())\n",
    "        \n",
    "        if len(parts) >= 2:\n",
    "            word = parts[:]\n",
    "            frequency = int(parts[-1])\n",
    "            word_frequencies_list.append([word, frequency])\n",
    "\n",
    "data = word_frequencies_list\n",
    "sorted_word_frequencies_list = sorted(data, key=lambda x: x[1], reverse=True)\n",
    "\n",
    "for item in sorted_word_frequencies_list[0:100]:\n",
    "    print(item)\n"
   ]
  },
  {
   "cell_type": "markdown",
   "metadata": {},
   "source": [
    "## Display the most common locations"
   ]
  },
  {
   "cell_type": "code",
   "execution_count": 30,
   "metadata": {},
   "outputs": [
    {
     "data": {
      "image/png": "[encoded data removed]",
      "text/plain": [
       "<Figure size 864x432 with 1 Axes>"
      ]
     },
     "metadata": {
      "needs_background": "light"
     },
     "output_type": "display_data"
    }
   ],
   "source": [
    "import matplotlib.pyplot as plt\n",
    "\n",
    "num_words_to_take = 30\n",
    "top_X_words_and_freq = sorted_word_frequencies_list[0:num_words_to_take-1]\n",
    "new_i = []\n",
    "for index, value in enumerate(top_X_words_and_freq):\n",
    "    name = value[0][0]\n",
    "    freq = value[1]\n",
    "    new_i.append([name, freq])\n",
    "\n",
    "top_X_words_and_freq = new_i\n",
    "top_X_words, top_X_freq = zip(*top_X_words_and_freq)\n",
    "\n",
    "plt.figure(figsize=(12, 6))  # Adjust the figure size as needed\n",
    "plt.barh(top_X_words, top_X_freq, color='skyblue')\n",
    "plt.gca().invert_yaxis()  # Reverse the order to have the most common word at the top\n",
    "plt.xlabel('Frequency')\n",
    "plt.ylabel('Locations')\n",
    "plt.title(f'Top {num_words_to_take} Locations for bots by Frequency')\n",
    "plt.tight_layout()\n",
    "plt.show()"
   ]
  },
  {
   "cell_type": "markdown",
   "metadata": {},
   "source": [
    "## Consolidate locations into countries\n",
    "\n",
    "Many of the locations here are cities. Lets consolidate the top 30 locations above into countries."
   ]
  },
  {
   "cell_type": "code",
   "execution_count": 31,
   "metadata": {},
   "outputs": [
    {
     "name": "stdout",
     "output_type": "stream",
     "text": [
      "[['india', 3350], ['unitedstates', 2972], ['usa', 1759], ['californiausa', 1181], ['floridausa', 1083], ['australia', 1017], ['canada', 937], ['uk', 932], ['london', 812], ['yes', 807], ['japan', 771], ['londonengland', 769], ['planetearth', 705], ['texasusa', 685], ['tokyo', 659], ['losangelesca', 600], ['earth', 589], ['newdelhiindia', 587], ['englandunitedkingdom', 570], ['newyorkusa', 548], ['riga', 519], ['unitedkingdom', 518], ['internet', 510], ['appisnowavailable', 486], ['losangeles', 484], ['washingtondc', 440], ['berlingermany', 428], ['poland', 428], ['portlandoregon', 425]]\n",
      "['india', 'usa', 'canada', 'australia', 'uk', 'japan', 'germany', 'latvia']\n",
      "[3937, 10605, 937, 1017, 3601, 1430, 428, 519]\n",
      "[['india', 3937], ['usa', 10605], ['canada', 937], ['australia', 1017], ['uk', 3601], ['japan', 1430], ['germany', 428], ['latvia', 519]]\n",
      "[['usa', 10605], ['india', 3937], ['uk', 3601], ['japan', 1430], ['australia', 1017], ['canada', 937], ['latvia', 519], ['germany', 428]]\n"
     ]
    },
    {
     "data": {
      "image/png": "[encoded data removed]",
      "text/plain": [
       "<Figure size 864x432 with 1 Axes>"
      ]
     },
     "metadata": {
      "needs_background": "light"
     },
     "output_type": "display_data"
    }
   ],
   "source": [
    "loc_ = top_X_words_and_freq\n",
    "print(loc_[0:30-1])\n",
    "\n",
    "india_ = [loc_[0][:],loc_[17][:]]\n",
    "usa_ = [loc_[1][:],loc_[2][:],loc_[3][:],loc_[4][:],loc_[13][:],loc_[15][:],loc_[19][:],loc_[24][:],loc_[25][:],loc_[27][:],loc_[28][:]]\n",
    "canada_ = [loc_[6][:]]\n",
    "australia_ = [loc_[5][:]]\n",
    "uk_ = [loc_[7][:],loc_[8][:],loc_[11][:],loc_[18][:],loc_[21][:]]\n",
    "japan_ = [loc_[10][:],loc_[14][:]]\n",
    "germany_ = [loc_[26][:]]\n",
    "latvia_ = [loc_[20][:]]\n",
    "# non_locations_ = [loc_[12][:],loc_[16][:],loc_[22][:],loc_[23][:]]\n",
    "\n",
    "# countries = [india_, usa_, canada_, australia_, uk_, japan_, germany_, latvia_, non_locations_]\n",
    "countries = [india_, usa_, canada_, australia_, uk_, japan_, germany_, latvia_]\n",
    "country_total = []\n",
    "for country in countries:\n",
    "    total_ = 0\n",
    "    for city in country:\n",
    "        total_ += city[1]\n",
    "    country_total.append(total_)\n",
    "\n",
    "# country_names = [\"india\", \"usa\", \"canada\", \"australia\", \"uk\", \"japan\", \"germany\", \"latvia\", \"non_locations\"]\n",
    "country_names = [\"india\", \"usa\", \"canada\", \"australia\", \"uk\", \"japan\", \"germany\", \"latvia\"]\n",
    "\n",
    "\n",
    "print(country_names)\n",
    "print(country_total)\n",
    "\n",
    "\n",
    "country_name_freq = [[name, total] for name, total in zip(country_names, country_total)]\n",
    "print(country_name_freq)\n",
    "\n",
    "sorted_country_name_freq = sorted(country_name_freq, key=lambda x: x[1], reverse=True)\n",
    "print(sorted_country_name_freq)\n",
    "\n",
    "\n",
    "top_X_words, top_X_freq = zip(*sorted_country_name_freq)\n",
    "\n",
    "plt.figure(figsize=(12, 6))  # Adjust the figure size as needed\n",
    "plt.barh(top_X_words, top_X_freq, color='skyblue')\n",
    "plt.gca().invert_yaxis()  # Reverse the order to have the most common word at the top\n",
    "plt.xlabel('Frequency')\n",
    "plt.ylabel('Locations')\n",
    "plt.title(f'Top {len(country_names)} Countries for bots by Frequency')\n",
    "plt.tight_layout()\n",
    "plt.show()"
   ]
  },
  {
   "cell_type": "markdown",
   "metadata": {},
   "source": [
    "# Takeaways\n",
    "\n",
    "## USA is the most common bot location\n",
    "* The majority of total bots which are english speaking seem to come from USA, which is the largest english speaking country in the world.\n",
    "* Therefore this information is somewhat meaningless.\n",
    "\n",
    "# Repeat the locations for all tweets, not just english"
   ]
  },
  {
   "cell_type": "code",
   "execution_count": 32,
   "metadata": {},
   "outputs": [
    {
     "name": "stdout",
     "output_type": "stream",
     "text": [
      "Locations written to /Users/hannojacobs/MIT805_datasets/mapreduced_tweet_fields/post_processed_tweet_fields/bot_all_language_unreduced_locations.txt\n",
      "Done writing to pkl.\n",
      "pkl file: /Users/hannojacobs/MIT805_datasets/Ukraine_preprocessed_all_languages_2.pkl\n"
     ]
    }
   ],
   "source": [
    "pkl_path = \"/Users/hannojacobs/MIT805_datasets/Ukraine_full.pkl\"\n",
    "df = pd.read_pickle(pkl_path)\n",
    "\n",
    "columns_to_keep = [ \n",
    "                    \"location\",\n",
    "                    \"following\",\n",
    "                    \"followers\",\n",
    "                    \"totaltweets\",\n",
    "                    \"usercreatedts\",\n",
    "                    \"tweetcreatedts\",\n",
    "                    \"retweetcount\",\n",
    "                    \"text\",\n",
    "                    \"language\",\n",
    "                    \"favorite_count\",\n",
    "                    \"extractedts\",\n",
    "                    ]\n",
    "df = df.reindex(columns=columns_to_keep)\n",
    "\n",
    "# drop all missing elements\n",
    "df_cleaned = df.dropna()\n",
    "df = df_cleaned\n",
    "del df_cleaned\n",
    "\n",
    "from datetime import datetime\n",
    "import numpy as np\n",
    "\n",
    "error_in_line_count = 0\n",
    "account_age = []\n",
    "for row_index in range(len(df)):\n",
    "    # if row_index > 1e5:\n",
    "    #     break\n",
    "    try:\n",
    "        usercreatedts_value = df.iloc[row_index, df.columns.get_loc(\"usercreatedts\")]\n",
    "        account_creation_date = datetime.strptime(usercreatedts_value, \"%Y-%m-%d %H:%M:%S.%f\")\n",
    "        current_date = datetime.now()\n",
    "        time_difference = (current_date - account_creation_date).total_seconds()\n",
    "        account_age_in_years = round(float(time_difference / (365.25 * 24 * 60 * 60)),2)\n",
    "        account_age.append(account_age_in_years)\n",
    "        # print(f\"account_age_in_years = {account_age_in_years} \\t usercreatedts_value = {usercreatedts_value}\")\n",
    "    except Exception as e:\n",
    "        error_in_line_count += 1\n",
    "        account_age.append(\"Error_in_line\")\n",
    "\n",
    "# add this to the dataframe\n",
    "df[\"account_age\"] = account_age\n",
    "df = df[df['account_age'] != 'Error_in_line']\n",
    "df.reset_index(drop=True, inplace=True)\n",
    "\n",
    "error_in_line_count = 0\n",
    "likely_bot_by_num_messages = []\n",
    "for row_index in range(len(df)):\n",
    "    # if row_index > 1e2:\n",
    "    #     break\n",
    "    try:\n",
    "        account_age_value = df.iloc[row_index, df.columns.get_loc(\"account_age\")]\n",
    "        total_num_tweets = df.iloc[row_index, df.columns.get_loc(\"totaltweets\")]\n",
    "\n",
    "        allowed_tweets_per_year = 50 * 365\n",
    "        max_allowed_tweets = int(account_age_value * allowed_tweets_per_year)\n",
    "\n",
    "        likely_bot = False\n",
    "        if total_num_tweets > max_allowed_tweets:\n",
    "            likely_bot = True\n",
    "        \n",
    "        likely_bot_by_num_messages.append(likely_bot)\n",
    "        # print(f\"account_age_value = {account_age_value} \\t total_num_tweets = {total_num_tweets} \\t likely_bot = {likely_bot}\")\n",
    "    except Exception as e:\n",
    "        error_in_line_count += 1\n",
    "        likely_bot_by_num_messages.append(\"Error_in_line\")\n",
    "\n",
    "# add this to the dataframe\n",
    "df[\"likely_bot_by_num_messages\"] = likely_bot_by_num_messages\n",
    "\n",
    "df = df[df['likely_bot_by_num_messages'] != 'Error_in_line']\n",
    "df.reset_index(drop=True, inplace=True)\n",
    "likely_count_bot_messages_by_num_messages = df['likely_bot_by_num_messages'].sum()\n",
    "percentage_messages_likely_bot_by_num_messages = round(likely_count_bot_messages_by_num_messages/len(df)*100,2)\n",
    "likely_bot_df = df[df['likely_bot_by_num_messages'] == True]\n",
    "likely_bot_df.reset_index(drop=True, inplace=True)\n",
    "list_of_locations = likely_bot_df[\"location\"].tolist()\n",
    "\n",
    "def remove_non_alphabetic(input_string):\n",
    "    return re.sub(r'[^a-zA-Z]', '', input_string)\n",
    "\n",
    "cleaned_locations = [remove_non_alphabetic(location) for location in list_of_locations]\n",
    "list_of_locations = cleaned_locations\n",
    "\n",
    "# make all lowercase\n",
    "for i in list_of_locations:\n",
    "    i = i.lower()\n",
    "\n",
    "output_file_path = \"/Users/hannojacobs/MIT805_datasets/mapreduced_tweet_fields/post_processed_tweet_fields/bot_all_language_unreduced_locations.txt\"\n",
    "\n",
    "# Open the file in write mode and write each location on a new line\n",
    "with open(output_file_path, 'w') as file:\n",
    "    for location in list_of_locations:\n",
    "        file.write(location.lower() + '\\n')\n",
    "\n",
    "print(f\"Locations written to {output_file_path}\")\n",
    "\n",
    "pkl_file_path = \"/Users/hannojacobs/MIT805_datasets/Ukraine_preprocessed_all_languages_2.pkl\"\n",
    "df.to_pickle(pkl_file_path)\n",
    "print(f\"Done writing to pkl.\")\n",
    "print(f\"pkl file: {pkl_file_path}\")"
   ]
  },
  {
   "cell_type": "markdown",
   "metadata": {},
   "source": [
    "## Now mapreduce that file and get the most common locations"
   ]
  },
  {
   "cell_type": "code",
   "execution_count": 33,
   "metadata": {},
   "outputs": [],
   "source": [
    "#################################### after mapreduced ####################################\n",
    "#################################### after mapreduced ####################################\n",
    "#################################### after mapreduced ####################################\n",
    "\n",
    "reduced_locations = file_path = \"/Users/hannojacobs/MIT805_datasets/mapreduced_tweet_fields/post_processed_tweet_fields/bot_all_language_reduced_locations.txt\"\n",
    "\n",
    "word_frequencies_list = []\n",
    "with open(file_path, 'r') as file:\n",
    "    for line in file:\n",
    "        parts = re.split(r'\\s+', line.strip())\n",
    "        \n",
    "        if len(parts) >= 2:\n",
    "            word = parts[:]\n",
    "            frequency = int(parts[-1])\n",
    "            word_frequencies_list.append([word, frequency])\n",
    "\n",
    "data = word_frequencies_list\n",
    "sorted_word_frequencies_list = sorted(data, key=lambda x: x[1], reverse=True)"
   ]
  },
  {
   "cell_type": "markdown",
   "metadata": {},
   "source": [
    "## Plot the new list of bot locations"
   ]
  },
  {
   "cell_type": "code",
   "execution_count": 34,
   "metadata": {},
   "outputs": [
    {
     "name": "stdout",
     "output_type": "stream",
     "text": [
      "[[['india', '4927'], 4927], [['unitedstates', '3160'], 3160], [['usa', '1876'], 1876], [['italia', '1331'], 1331], [['californiausa', '1307'], 1307], [['floridausa', '1160'], 1160], [['france', '1082'], 1082], [['japan', '1075'], 1075], [['australia', '1065'], 1065], [['uk', '1004'], 1004], [['canada', '971'], 971], [['london', '877'], 877], [['italy', '853'], 853], [['planetearth', '838'], 838], [['tokyo', '837'], 837], [['londonengland', '836'], 836], [['yes', '807'], 807], [['losangelesca', '751'], 751], [['newdelhiindia', '718'], 718], [['texasusa', '711'], 711], [['thailand', '671'], 671], [['earth', '650'], 650], [['poland', '637'], 637], [['venezuela', '635'], 635], [['berlingermany', '628'], 628], [['newyorkusa', '612'], 612], [['englandunitedkingdom', '611'], 611], [['parisfrance', '580'], 580], [['riga', '559'], 559]]\n"
     ]
    }
   ],
   "source": [
    "print(sorted_word_frequencies_list[0:num_words_to_take-1])"
   ]
  },
  {
   "cell_type": "code",
   "execution_count": 35,
   "metadata": {},
   "outputs": [
    {
     "data": {
      "image/png": "[encoded data removed]",
      "text/plain": [
       "<Figure size 864x432 with 1 Axes>"
      ]
     },
     "metadata": {
      "needs_background": "light"
     },
     "output_type": "display_data"
    }
   ],
   "source": [
    "num_words_to_take = 30\n",
    "top_X_words_and_freq = sorted_word_frequencies_list[0:num_words_to_take-1]\n",
    "new_i = []\n",
    "for index, value in enumerate(top_X_words_and_freq):\n",
    "    name = value[0][0]\n",
    "    freq = value[1]\n",
    "    new_i.append([name, freq])\n",
    "\n",
    "top_X_words_and_freq = new_i\n",
    "top_X_words, top_X_freq = zip(*top_X_words_and_freq)\n",
    "\n",
    "\n",
    "plt.figure(figsize=(12, 6))  # Adjust the figure size as needed\n",
    "plt.barh(top_X_words, top_X_freq, color='skyblue')\n",
    "plt.gca().invert_yaxis()  # Reverse the order to have the most common word at the top\n",
    "plt.xlabel('Frequency')\n",
    "plt.ylabel('Locations')\n",
    "plt.title(f'Top {num_words_to_take} Locations for bots by Frequency')\n",
    "plt.tight_layout()\n",
    "plt.show()"
   ]
  },
  {
   "cell_type": "markdown",
   "metadata": {},
   "source": [
    "## Consolidate these into the top X most common countries"
   ]
  },
  {
   "cell_type": "code",
   "execution_count": 38,
   "metadata": {},
   "outputs": [
    {
     "name": "stdout",
     "output_type": "stream",
     "text": [
      "[['india', 4927], ['unitedstates', 3160], ['usa', 1876], ['italia', 1331], ['californiausa', 1307], ['floridausa', 1160], ['france', 1082], ['japan', 1075], ['australia', 1065], ['uk', 1004], ['canada', 971], ['london', 877], ['italy', 853], ['planetearth', 838], ['tokyo', 837], ['londonengland', 836], ['yes', 807], ['losangelesca', 751], ['newdelhiindia', 718], ['texasusa', 711], ['thailand', 671], ['earth', 650], ['poland', 637], ['venezuela', 635], ['berlingermany', 628], ['newyorkusa', 612], ['englandunitedkingdom', 611], ['parisfrance', 580], ['riga', 559]]\n",
      "['india_', 'usa_', 'canada_', 'italy_', 'australia_', 'uk_', 'france', 'japan_', 'germany_']\n",
      "[5645, 9577, 971, 2184, 1065, 3328, 1662, 1912, 428]\n",
      "[['india_', 5645], ['usa_', 9577], ['canada_', 971], ['italy_', 2184], ['australia_', 1065], ['uk_', 3328], ['france', 1662], ['japan_', 1912], ['germany_', 428]]\n",
      "[['usa_', 9577], ['india_', 5645], ['uk_', 3328], ['italy_', 2184], ['japan_', 1912], ['france', 1662], ['australia_', 1065], ['canada_', 971], ['germany_', 428]]\n"
     ]
    },
    {
     "data": {
      "image/png": "[encoded data removed]",
      "text/plain": [
       "<Figure size 864x432 with 1 Axes>"
      ]
     },
     "metadata": {
      "needs_background": "light"
     },
     "output_type": "display_data"
    }
   ],
   "source": [
    "loc_ = top_X_words_and_freq\n",
    "print(loc_[0:30-1])\n",
    "\n",
    "india_ = [loc_[0][:],loc_[18][:]]\n",
    "usa_ = [loc_[1][:],loc_[2][:],loc_[4][:],loc_[5][:],loc_[17][:],loc_[19][:],loc_[25][:]]\n",
    "canada_ = [loc_[10][:]]\n",
    "italy_ = [loc_[3][:], loc_[12][:]]\n",
    "australia_ = [loc_[8][:]]\n",
    "uk_ = [loc_[9][:],loc_[11][:],loc_[15][:],loc_[26][:]]\n",
    "france = [loc_[6][:],loc_[27][:],]\n",
    "japan_ = [loc_[7][:],loc_[14][:]]\n",
    "\n",
    "countries = [india_, usa_, canada_, italy_, australia_, uk_, france, japan_, germany_]\n",
    "country_total = []\n",
    "for country in countries:\n",
    "    total_ = 0\n",
    "    for city in country:\n",
    "        total_ += city[1]\n",
    "    country_total.append(total_)\n",
    "\n",
    "country_names = [\"india_\", \"usa_\", \"canada_\", \"italy_\", \"australia_\", \"uk_\", \"france\", \"japan_\", \"germany_\"]\n",
    "\n",
    "\n",
    "print(country_names)\n",
    "print(country_total)\n",
    "\n",
    "country_name_freq = [[name, total] for name, total in zip(country_names, country_total)]\n",
    "print(country_name_freq)\n",
    "\n",
    "sorted_country_name_freq = sorted(country_name_freq, key=lambda x: x[1], reverse=True)\n",
    "print(sorted_country_name_freq)\n",
    "\n",
    "\n",
    "top_X_words, top_X_freq = zip(*sorted_country_name_freq)\n",
    "\n",
    "plt.figure(figsize=(12, 6))  # Adjust the figure size as needed\n",
    "plt.barh(top_X_words, top_X_freq, color='skyblue')\n",
    "plt.gca().invert_yaxis()  # Reverse the order to have the most common word at the top\n",
    "plt.xlabel('Frequency')\n",
    "plt.ylabel('Locations')\n",
    "plt.title(f'Top {len(country_names)} Countries for bots by Frequency')\n",
    "plt.tight_layout()\n",
    "plt.show()"
   ]
  },
  {
   "cell_type": "markdown",
   "metadata": {},
   "source": [
    "# Takeaways\n",
    "\n",
    "* USA is stil the most common bot location even when all language tweets are taken into account\n",
    "* With India in second place\n",
    "* This could be owing to most tweets being in English and USA is the most populous English speaking country with UK in third.\n"
   ]
  }
 ],
 "metadata": {
  "kernelspec": {
   "display_name": "base",
   "language": "python",
   "name": "python3"
  },
  "language_info": {
   "codemirror_mode": {
    "name": "ipython",
    "version": 3
   },
   "file_extension": ".py",
   "mimetype": "text/x-python",
   "name": "python",
   "nbconvert_exporter": "python",
   "pygments_lexer": "ipython3",
   "version": "3.9.7"
  },
  "orig_nbformat": 4
 },
 "nbformat": 4,
 "nbformat_minor": 2
}
