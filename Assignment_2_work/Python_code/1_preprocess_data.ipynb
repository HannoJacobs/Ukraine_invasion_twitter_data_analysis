{
 "cells": [
  {
   "cell_type": "markdown",
   "metadata": {},
   "source": [
    "# This is used to filter out the csv data with open fields"
   ]
  },
  {
   "cell_type": "code",
   "execution_count": 1,
   "metadata": {},
   "outputs": [
    {
     "name": "stderr",
     "output_type": "stream",
     "text": [
      "/Users/hannojacobs/opt/anaconda3/lib/python3.9/site-packages/IPython/core/interactiveshell.py:3444: FutureWarning: The error_bad_lines argument has been deprecated and will be removed in a future version.\n",
      "\n",
      "\n",
      "  exec(code_obj, self.user_global_ns, self.user_ns)\n",
      "/Users/hannojacobs/opt/anaconda3/lib/python3.9/site-packages/IPython/core/interactiveshell.py:3444: DtypeWarning: Columns (0,1,2,3,4,5,7,8,9,10,11,12,13,14,15,17) have mixed types.Specify dtype option on import or set low_memory=False.\n",
      "  exec(code_obj, self.user_global_ns, self.user_ns)\n"
     ]
    }
   ],
   "source": [
    "import pandas as pd\n",
    "\n",
    "csv_file_path = \"/Users/hannojacobs/MIT805_datasets/Ukraine_full.csv\"\n",
    "output_csv_file_path = \"/Users/hannojacobs/MIT805_datasets/preprocessed_Ukraine_full.csv\"\n",
    "\n",
    "# csv_file_path = \"/Users/hannojacobs/MIT805_datasets/Ukraine_head.csv\"\n",
    "# output_csv_file_path = \"/Users/hannojacobs/MIT805_datasets/edited_Ukraine_head.csv\"\n",
    "df = pd.read_csv(csv_file_path, encoding='utf-8', error_bad_lines=False)"
   ]
  },
  {
   "cell_type": "code",
   "execution_count": 2,
   "metadata": {},
   "outputs": [
    {
     "name": "stdout",
     "output_type": "stream",
     "text": [
      "  Unnamed: 0               userid         username  \\\n",
      "0    3544308            454230077       veronicae9   \n",
      "1    3544309  1166381062248783874  forcemultstevea   \n",
      "2    3544310            159230211       tammytabby   \n",
      "3    3544311  1498015615881302016  ArthurC54762353   \n",
      "4    3544312   867157331494268929    GideonNeptune   \n",
      "\n",
      "                                            acctdesc         location  \\\n",
      "0                                                NaN           madrid   \n",
      "1  AI startup advisor 'force multiplier' who shap...       Olympia WA   \n",
      "2  Native of New York City, NY. \\nConservative.\\n...        Georgia     \n",
      "3                                                NaN              NaN   \n",
      "4  Heard expert say “30% of a given population at...  Here, right now   \n",
      "\n",
      "  following  followers totaltweets               usercreatedts  \\\n",
      "0    3546.0     1459.0    119958.0  2012-01-03 19:23:33.000000   \n",
      "1    1020.0      731.0    101791.0  2019-08-27 16:05:01.000000   \n",
      "2   15602.0    15597.0    411214.0  2010-06-24 20:40:35.000000   \n",
      "3       1.0        3.0       394.0  2022-02-27 19:23:16.000000   \n",
      "4   14199.0    12827.0    134139.0  2017-05-23 23:16:33.000000   \n",
      "\n",
      "                 tweetid       tweetcreatedts retweetcount  \\\n",
      "0  1500984943371030528.0  2022-03-08 00:01:12         35.0   \n",
      "1  1500984943639289856.0  2022-03-08 00:01:12         32.0   \n",
      "2  1500984943668834304.0  2022-03-08 00:01:12         79.0   \n",
      "3  1500984944117620736.0  2022-03-08 00:01:12         30.0   \n",
      "4  1500984944222478336.0  2022-03-08 00:01:12        127.0   \n",
      "\n",
      "                                                text  \\\n",
      "0  Guillaume Briquet herido y hospitalizado en #M...   \n",
      "1  \"Kyiv Ghost\" shot down the #Russian Caliber cr...   \n",
      "2  #China wants to mediate the #Ukraine war to re...   \n",
      "3  Russian soldiers killed the parents of a 17-ye...   \n",
      "4  If 80-year-old Ukrainian women are using their...   \n",
      "\n",
      "                                            hashtags language coordinates  \\\n",
      "0        [{'text': 'Mykolaev', 'indices': [60, 69]}]       es         NaN   \n",
      "1  [{'text': 'Russian', 'indices': [45, 53]}, {'t...       en         NaN   \n",
      "2  [{'text': 'China', 'indices': [18, 24]}, {'tex...       en         NaN   \n",
      "3                                                 []       en         NaN   \n",
      "4                                                 []       en         NaN   \n",
      "\n",
      "   favorite_count                 extractedts  \n",
      "0             0.0  2022-03-08 00:07:18.782816  \n",
      "1             0.0  2022-03-08 00:07:18.766227  \n",
      "2             0.0  2022-03-08 00:07:18.758033  \n",
      "3             0.0  2022-03-08 00:07:18.749824  \n",
      "4             0.0  2022-03-08 00:07:18.741431  \n",
      "\n",
      "\n",
      "columns =\n",
      "Index(['Unnamed: 0', 'userid', 'username', 'acctdesc', 'location', 'following',\n",
      "       'followers', 'totaltweets', 'usercreatedts', 'tweetid',\n",
      "       'tweetcreatedts', 'retweetcount', 'text', 'hashtags', 'language',\n",
      "       'coordinates', 'favorite_count', 'extractedts'],\n",
      "      dtype='object')\n"
     ]
    }
   ],
   "source": [
    "print(df.head())\n",
    "print(f\"\\n\\ncolumns =\\n{df.columns}\")"
   ]
  },
  {
   "cell_type": "code",
   "execution_count": 3,
   "metadata": {},
   "outputs": [
    {
     "name": "stdout",
     "output_type": "stream",
     "text": [
      "          location following  followers totaltweets  \\\n",
      "0           madrid    3546.0     1459.0    119958.0   \n",
      "1       Olympia WA    1020.0      731.0    101791.0   \n",
      "2        Georgia     15602.0    15597.0    411214.0   \n",
      "3              NaN       1.0        3.0       394.0   \n",
      "4  Here, right now   14199.0    12827.0    134139.0   \n",
      "\n",
      "                usercreatedts retweetcount  \\\n",
      "0  2012-01-03 19:23:33.000000         35.0   \n",
      "1  2019-08-27 16:05:01.000000         32.0   \n",
      "2  2010-06-24 20:40:35.000000         79.0   \n",
      "3  2022-02-27 19:23:16.000000         30.0   \n",
      "4  2017-05-23 23:16:33.000000        127.0   \n",
      "\n",
      "                                                text language  \n",
      "0  Guillaume Briquet herido y hospitalizado en #M...       es  \n",
      "1  \"Kyiv Ghost\" shot down the #Russian Caliber cr...       en  \n",
      "2  #China wants to mediate the #Ukraine war to re...       en  \n",
      "3  Russian soldiers killed the parents of a 17-ye...       en  \n",
      "4  If 80-year-old Ukrainian women are using their...       en  \n",
      "\n",
      "\n",
      " columns left =\n",
      "Index(['location', 'following', 'followers', 'totaltweets', 'usercreatedts',\n",
      "       'retweetcount', 'text', 'language'],\n",
      "      dtype='object')\n"
     ]
    }
   ],
   "source": [
    "columns_to_keep = [ \"location\",\n",
    "                    \"following\",\n",
    "                    \"followers\",\n",
    "                    \"totaltweets\",\n",
    "                    \"usercreatedts\",\n",
    "                    \"retweetcount\",\n",
    "                    \"text\",\n",
    "                    # \"hastags\", # this seems to be NaN for each value\n",
    "                    \"language\",\n",
    "                    ]\n",
    "df = df.reindex(columns=columns_to_keep)\n",
    "\n",
    "print(df.head())\n",
    "print(f\"\\n\\n columns left =\\n{df.columns}\")"
   ]
  },
  {
   "cell_type": "code",
   "execution_count": 4,
   "metadata": {},
   "outputs": [
    {
     "name": "stdout",
     "output_type": "stream",
     "text": [
      "     A    B  C\n",
      "0  1.0  1.0  1\n",
      "1  2.0  NaN  2\n",
      "2  NaN  3.0  3\n",
      "3  4.0  4.0  4\n"
     ]
    }
   ],
   "source": [
    "import pandas as pd\n",
    "\n",
    "# Create a sample DataFrame\n",
    "data = {'A': [1, 2, None, 4],\n",
    "        'B': [1, None, 3, 4],\n",
    "        'C': [1, 2, 3, 4]}\n",
    "df2 = pd.DataFrame(data)\n",
    "\n",
    "# Display the first few rows of the DataFrame (default is 5 rows)\n",
    "print(df2.head())"
   ]
  },
  {
   "cell_type": "code",
   "execution_count": 5,
   "metadata": {},
   "outputs": [
    {
     "name": "stdout",
     "output_type": "stream",
     "text": [
      "Total number of missing elements: 81637113\n",
      "Total number of missing elements: 2\n"
     ]
    }
   ],
   "source": [
    "# check the num of missing elements in the df\n",
    "# Check the total number of missing elements\n",
    "total_missing = df.isna().sum().sum()\n",
    "total_missing2 = df2.isna().sum().sum()\n",
    "print(\"Total number of missing elements:\", total_missing)\n",
    "print(\"Total number of missing elements:\", total_missing2)\n"
   ]
  },
  {
   "cell_type": "code",
   "execution_count": 6,
   "metadata": {},
   "outputs": [
    {
     "name": "stdout",
     "output_type": "stream",
     "text": [
      "len(df) = 5624708\n",
      "len(df2) = 4\n",
      "len(df_cleaned) = 5624708\n",
      "len(df2_cleaned) = 2\n"
     ]
    }
   ],
   "source": [
    "# drop all missing elements\n",
    "df_cleaned = df.dropna()\n",
    "df2_cleaned = df2.dropna()\n",
    "df = df_cleaned\n",
    "\n",
    "print(f\"len(df) = {len(df)}\")\n",
    "print(f\"len(df2) = {len(df2)}\")\n",
    "print(f\"len(df_cleaned) = {len(df_cleaned)}\")\n",
    "print(f\"len(df2_cleaned) = {len(df2_cleaned)}\")\n"
   ]
  },
  {
   "cell_type": "markdown",
   "metadata": {},
   "source": [
    "# Do this preprocessing to the full data file and then write it to an output\n",
    "### if a value in the df has the wrong values then drop it"
   ]
  },
  {
   "cell_type": "code",
   "execution_count": 7,
   "metadata": {},
   "outputs": [
    {
     "name": "stdout",
     "output_type": "stream",
     "text": [
      "len cleaned df = 5624708\n",
      "len df all languages = 5624708\n",
      "len df only english = 3830854\n",
      "len df after dropping non ints = 3830854\n"
     ]
    }
   ],
   "source": [
    "# drop all missing elements\n",
    "df_cleaned = df.dropna()\n",
    "print(f\"len cleaned df = {len(df)}\")\n",
    "\n",
    "# drop all tweets where the language is not english\n",
    "print(f\"len df all languages = {len(df)}\")\n",
    "df = df[df['language'] == 'en']\n",
    "print(f\"len df only english = {len(df)}\")\n",
    "\n",
    "# drop all following, followers, totaltweets, retweetcount values that are not integers\n",
    "drop_non_ints_in_rows= [\"following\",\n",
    "                        \"followers\",\n",
    "                        \"totaltweets\",\n",
    "                        \"retweetcount\",\n",
    "                        ]\n",
    "\n",
    "# Columns to check\n",
    "drop_non_ints_in_rows = [\"following\", \"followers\", \"totaltweets\", \"retweetcount\"]\n",
    "\n",
    "# Convert columns to numeric and drop rows where they are not integers\n",
    "for col in drop_non_ints_in_rows:\n",
    "    df = df[pd.to_numeric(df[col], errors='coerce').notnull()]\n",
    "\n",
    "print(f\"len df after dropping non ints = {len(df)}\")\n"
   ]
  },
  {
   "cell_type": "code",
   "execution_count": 8,
   "metadata": {},
   "outputs": [
    {
     "name": "stdout",
     "output_type": "stream",
     "text": [
      "DataFrame has been saved to /Users/hannojacobs/MIT805_datasets/preprocessed_Ukraine_full.csv\n"
     ]
    }
   ],
   "source": [
    "# Save to CSV\n",
    "\n",
    "# Write the DataFrame to a CSV file\n",
    "df.to_csv(output_csv_file_path, index=False)  # Set index=False to exclude the DataFrame index in the CSV file\n",
    "\n",
    "print(f'DataFrame has been saved to {output_csv_file_path}')"
   ]
  },
  {
   "cell_type": "markdown",
   "metadata": {},
   "source": [
    "## Write each column's values into a seperate txt file"
   ]
  },
  {
   "cell_type": "code",
   "execution_count": 9,
   "metadata": {},
   "outputs": [
    {
     "name": "stdout",
     "output_type": "stream",
     "text": [
      "Values from the \"location\" column saved to /Users/hannojacobs/MIT805_datasets/Ukraine_full_0_location.txt\n",
      "Values from the \"following\" column saved to /Users/hannojacobs/MIT805_datasets/Ukraine_full_1_following.txt\n",
      "Values from the \"followers\" column saved to /Users/hannojacobs/MIT805_datasets/Ukraine_full_2_followers.txt\n",
      "Values from the \"totaltweets\" column saved to /Users/hannojacobs/MIT805_datasets/Ukraine_full_3_totaltweets.txt\n",
      "Values from the \"usercreatedts\" column saved to /Users/hannojacobs/MIT805_datasets/Ukraine_full_4_usercreatedts.txt\n",
      "Values from the \"retweetcount\" column saved to /Users/hannojacobs/MIT805_datasets/Ukraine_full_5_retweetcount.txt\n",
      "Values from the \"text\" column saved to /Users/hannojacobs/MIT805_datasets/Ukraine_full_6_text.txt\n",
      "Values from the \"language\" column saved to /Users/hannojacobs/MIT805_datasets/Ukraine_full_7_language.txt\n"
     ]
    }
   ],
   "source": [
    "# Write each column into a seperate file\n",
    "\n",
    "# Specify the output directory where you want to save the text files\n",
    "output_dir = \"/Users/hannojacobs/MIT805_datasets/\"\n",
    "\n",
    "# Loop through the columns in the DataFrame\n",
    "count = 0\n",
    "for column_name in df.columns:\n",
    "    # Create a file path for each column\n",
    "    file_path = f'{output_dir}Ukraine_full_{count}_{column_name}.txt'\n",
    "\n",
    "    # Open the file for writing\n",
    "    with open(file_path, 'w') as file:\n",
    "        # Iterate through the values in the column\n",
    "        for value in df[column_name]:\n",
    "            # Write each value to the file followed by a newline character\n",
    "            file.write(str(value) + '\\n')\n",
    "\n",
    "    print(f'Values from the \"{column_name}\" column saved to {file_path}')\n",
    "    count += 1"
   ]
  }
 ],
 "metadata": {
  "kernelspec": {
   "display_name": "base",
   "language": "python",
   "name": "python3"
  },
  "language_info": {
   "codemirror_mode": {
    "name": "ipython",
    "version": 3
   },
   "file_extension": ".py",
   "mimetype": "text/x-python",
   "name": "python",
   "nbconvert_exporter": "python",
   "pygments_lexer": "ipython3",
   "version": "3.9.7"
  },
  "orig_nbformat": 4
 },
 "nbformat": 4,
 "nbformat_minor": 2
}
