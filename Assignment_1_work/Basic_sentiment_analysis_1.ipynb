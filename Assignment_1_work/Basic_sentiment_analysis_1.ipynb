{
 "cells": [
  {
   "cell_type": "markdown",
   "metadata": {},
   "source": [
    "# Load the dataset"
   ]
  },
  {
   "cell_type": "code",
   "execution_count": 3,
   "metadata": {},
   "outputs": [
    {
     "name": "stderr",
     "output_type": "stream",
     "text": [
      "/Users/hannojacobs/opt/anaconda3/lib/python3.9/site-packages/IPython/core/interactiveshell.py:3444: DtypeWarning: Columns (0,1,2,3,4,5,7,8,9,10,11,12,13,14,15,17) have mixed types.Specify dtype option on import or set low_memory=False.\n",
      "  exec(code_obj, self.user_global_ns, self.user_ns)\n"
     ]
    }
   ],
   "source": [
    "import pandas as pd\n",
    "\n",
    "csv_file_path = \"/Users/hannojacobs/MIT805_datasets/Ukraine_twitter_invasion.csv\"\n",
    "df = pd.read_csv(csv_file_path, encoding='utf-8', error_bad_lines=False)"
   ]
  },
  {
   "cell_type": "markdown",
   "metadata": {},
   "source": [
    "## Work with the data"
   ]
  },
  {
   "cell_type": "code",
   "execution_count": 4,
   "metadata": {},
   "outputs": [
    {
     "name": "stdout",
     "output_type": "stream",
     "text": [
      "specific_tweet =\n",
      "Unnamed: 0                                                  3544409\n",
      "userid                                                    261364499\n",
      "username                                            RevolutionSyria\n",
      "acctdesc          ‏من هنا كانت البداية... من هنا أسمعنا العالم ص...\n",
      "location                                                      Syria\n",
      "following                                                       0.0\n",
      "followers                                                  199749.0\n",
      "totaltweets                                                304376.0\n",
      "usercreatedts                            2011-03-05 20:18:55.000000\n",
      "tweetid                                       1500984994310889472.0\n",
      "tweetcreatedts                                  2022-03-08 00:01:24\n",
      "retweetcount                                                  245.0\n",
      "text              In 2018 #Russia hosted FIFA World Cup while Ru...\n",
      "hashtags          [{'text': 'Russia', 'indices': [29, 36]}, {'te...\n",
      "language                                                         en\n",
      "coordinates                                                     NaN\n",
      "favorite_count                                                  0.0\n",
      "extractedts                              2022-03-08 00:07:16.180667\n",
      "Name: 101, dtype: object\n",
      "\n",
      "specific_values =\n",
      "261364499\n",
      "\n",
      "head =\n",
      "  Unnamed: 0               userid         username  \\\n",
      "0    3544308            454230077       veronicae9   \n",
      "1    3544309  1166381062248783874  forcemultstevea   \n",
      "2    3544310            159230211       tammytabby   \n",
      "3    3544311  1498015615881302016  ArthurC54762353   \n",
      "4    3544312   867157331494268929    GideonNeptune   \n",
      "\n",
      "                                            acctdesc         location  \\\n",
      "0                                                NaN           madrid   \n",
      "1  AI startup advisor 'force multiplier' who shap...       Olympia WA   \n",
      "2  Native of New York City, NY. \\nConservative.\\n...        Georgia     \n",
      "3                                                NaN              NaN   \n",
      "4  Heard expert say “30% of a given population at...  Here, right now   \n",
      "\n",
      "  following  followers totaltweets               usercreatedts  \\\n",
      "0    3546.0     1459.0    119958.0  2012-01-03 19:23:33.000000   \n",
      "1    1020.0      731.0    101791.0  2019-08-27 16:05:01.000000   \n",
      "2   15602.0    15597.0    411214.0  2010-06-24 20:40:35.000000   \n",
      "3       1.0        3.0       394.0  2022-02-27 19:23:16.000000   \n",
      "4   14199.0    12827.0    134139.0  2017-05-23 23:16:33.000000   \n",
      "\n",
      "                 tweetid       tweetcreatedts retweetcount  \\\n",
      "0  1500984943371030528.0  2022-03-08 00:01:12         35.0   \n",
      "1  1500984943639289856.0  2022-03-08 00:01:12         32.0   \n",
      "2  1500984943668834304.0  2022-03-08 00:01:12         79.0   \n",
      "3  1500984944117620736.0  2022-03-08 00:01:12         30.0   \n",
      "4  1500984944222478336.0  2022-03-08 00:01:12        127.0   \n",
      "\n",
      "                                                text  \\\n",
      "0  Guillaume Briquet herido y hospitalizado en #M...   \n",
      "1  \"Kyiv Ghost\" shot down the #Russian Caliber cr...   \n",
      "2  #China wants to mediate the #Ukraine war to re...   \n",
      "3  Russian soldiers killed the parents of a 17-ye...   \n",
      "4  If 80-year-old Ukrainian women are using their...   \n",
      "\n",
      "                                            hashtags language coordinates  \\\n",
      "0        [{'text': 'Mykolaev', 'indices': [60, 69]}]       es         NaN   \n",
      "1  [{'text': 'Russian', 'indices': [45, 53]}, {'t...       en         NaN   \n",
      "2  [{'text': 'China', 'indices': [18, 24]}, {'tex...       en         NaN   \n",
      "3                                                 []       en         NaN   \n",
      "4                                                 []       en         NaN   \n",
      "\n",
      "   favorite_count                 extractedts  \n",
      "0             0.0  2022-03-08 00:07:18.782816  \n",
      "1             0.0  2022-03-08 00:07:18.766227  \n",
      "2             0.0  2022-03-08 00:07:18.758033  \n",
      "3             0.0  2022-03-08 00:07:18.749824  \n",
      "4             0.0  2022-03-08 00:07:18.741431  \n",
      "\n",
      "columns =\n",
      "Index(['Unnamed: 0', 'userid', 'username', 'acctdesc', 'location', 'following',\n",
      "       'followers', 'totaltweets', 'usercreatedts', 'tweetid',\n",
      "       'tweetcreatedts', 'retweetcount', 'text', 'hashtags', 'language',\n",
      "       'coordinates', 'favorite_count', 'extractedts'],\n",
      "      dtype='object')\n",
      "\n",
      "\n",
      "\n"
     ]
    }
   ],
   "source": [
    "specific_tweet = df.iloc[101]\n",
    "print(f\"specific_tweet =\\n{specific_tweet}\\n\")\n",
    "\n",
    "specific_values = specific_tweet[\"userid\"]\n",
    "print(f\"specific_values =\\n{specific_values}\\n\")\n",
    "\n",
    "print(f\"head =\\n{df.head()}\\n\")\n",
    "print(f\"columns =\\n{df.columns}\\n\")\n",
    "print(\"\\n\")"
   ]
  },
  {
   "cell_type": "markdown",
   "metadata": {},
   "source": [
    "## Get distinct values"
   ]
  },
  {
   "cell_type": "code",
   "execution_count": 5,
   "metadata": {},
   "outputs": [
    {
     "name": "stdout",
     "output_type": "stream",
     "text": [
      "len(distinct_locations) = 421867\n",
      "num_ukraine = 49417\n",
      "num_russia = 1283\n"
     ]
    }
   ],
   "source": [
    "distinct_locations = df['location'].unique()\n",
    "print(f\"len(distinct_locations) = {len(distinct_locations)}\")\n",
    "\n",
    "places_to_check = [\"Ukraine\", \"ukraine\"]\n",
    "num_ukraine = df['location'].isin(places_to_check).sum()\n",
    "\n",
    "print(f\"num_ukraine = {num_ukraine}\")\n",
    "\n",
    "\n",
    "places_to_check = [\"Russia\", \"russia\"]\n",
    "num_russia = df['location'].isin(places_to_check).sum()\n",
    "\n",
    "print(f\"num_russia = {num_russia}\")"
   ]
  },
  {
   "cell_type": "markdown",
   "metadata": {},
   "source": [
    "# Collect all tweets"
   ]
  },
  {
   "cell_type": "code",
   "execution_count": 6,
   "metadata": {},
   "outputs": [
    {
     "name": "stdout",
     "output_type": "stream",
     "text": [
      "first few tweets =\n",
      "0    Guillaume Briquet herido y hospitalizado en #M...\n",
      "1    \"Kyiv Ghost\" shot down the #Russian Caliber cr...\n",
      "2    #China wants to mediate the #Ukraine war to re...\n",
      "3    Russian soldiers killed the parents of a 17-ye...\n",
      "4    If 80-year-old Ukrainian women are using their...\n",
      "5    🔥84 states and 13 international organizations ...\n",
      "6    Just #hodl $trdc , and watch new #season of @l...\n",
      "7    I would also like to thank the journalists who...\n",
      "8    A Fox’s Tale – For #Ukraine https://t.co/lEdTP...\n",
      "9    🙏 Ukraine🇺🇦#Ukraine✌#Zelensky \\n♠️ #Putin #War...\n",
      "Name: text, dtype: object\n",
      "\n",
      "num_tweets = 20639334\n"
     ]
    }
   ],
   "source": [
    "df['text'] = df['text'].astype(str)\n",
    "tweets = df['text']\n",
    "print(f\"first few tweets =\\n{tweets[0:10]}\\n\")\n",
    "num_tweets = len(tweets)\n",
    "print(f\"num_tweets = {num_tweets}\")"
   ]
  },
  {
   "cell_type": "markdown",
   "metadata": {},
   "source": [
    "## Sentiment analysis"
   ]
  },
  {
   "cell_type": "code",
   "execution_count": 10,
   "metadata": {},
   "outputs": [
    {
     "name": "stdout",
     "output_type": "stream",
     "text": [
      "progress = 10.0 %\n",
      "progress = 20.0 %\n",
      "progress = 30.0 %\n",
      "progress = 40.0 %\n",
      "progress = 50.0 %\n",
      "progress = 60.0 %\n",
      "progress = 70.0 %\n",
      "progress = 80.0 %\n",
      "progress = 90.0 %\n",
      "progress = 100.0 %\n",
      "\n",
      "\n",
      "num_tweets_with_sentiment = 5253\n",
      "sum_sentiment = 504.0248366773663\n",
      "avg_sentiment = 0.09594990228010018\n",
      "Sentiment_label: Positive\n",
      "\n",
      "\n"
     ]
    }
   ],
   "source": [
    "from textblob import TextBlob\n",
    "\n",
    "sum_sentiment = 0 # init to zero\n",
    "num_tweets_with_sentiment = 0 # init to zero\n",
    "count = 0 # init to zero\n",
    "tweet_sentiment_list = []\n",
    "\n",
    "printing_divisor = int(1e3) # after how many tweets to print progress\n",
    "num_tweets_to_use = int(1e4) # total number of tweets to do sentiment analysis on\n",
    "# printing_divisor = int(0.5e6) # after how many tweets to print progress\n",
    "# num_tweets_to_use = int(len(tweets)) # total number of tweets to do sentiment analysis on\n",
    "\n",
    "for i in tweets[0:num_tweets_to_use]:\n",
    "    count += 1\n",
    "    if (count%printing_divisor == 0):\n",
    "        print(f\"progress = {(count/num_tweets_to_use)*100} %\")\n",
    "    blob = TextBlob(i)\n",
    "    sentiment_polarity = blob.sentiment.polarity\n",
    "    tweet_sentiment_list.append(sentiment_polarity)\n",
    "    if sentiment_polarity != 0:\n",
    "        sum_sentiment += sentiment_polarity\n",
    "        num_tweets_with_sentiment += 1\n",
    "    # print(\"\\n\\n\")\n",
    "    # print(f\"tweet_text =\\n{i}\")\n",
    "    # print(f\"sentiment_polarity = {sentiment_polarity}\")\n",
    "    # print(\"\\n\\n\")\n",
    "\n",
    "avg_sentiment = sum_sentiment/num_tweets_with_sentiment\n",
    "sentiment_polarity = avg_sentiment\n",
    "\n",
    "# Determine sentiment label based on polarity\n",
    "if sentiment_polarity > 0:\n",
    "    sentiment_label = \"Positive\"\n",
    "elif sentiment_polarity < 0:\n",
    "    sentiment_label = \"Negative\"\n",
    "else:\n",
    "    sentiment_label = \"Neutral\"\n",
    "\n",
    "print(\"\\n\")\n",
    "print(f\"num_tweets_with_sentiment = {num_tweets_with_sentiment}\")\n",
    "print(f\"sum_sentiment = {sum_sentiment}\")\n",
    "print(f\"avg_sentiment = {avg_sentiment}\")\n",
    "print(f\"Sentiment_label: {sentiment_label}\")\n",
    "print(\"\\n\")\n"
   ]
  }
 ],
 "metadata": {
  "kernelspec": {
   "display_name": "base",
   "language": "python",
   "name": "python3"
  },
  "language_info": {
   "codemirror_mode": {
    "name": "ipython",
    "version": 3
   },
   "file_extension": ".py",
   "mimetype": "text/x-python",
   "name": "python",
   "nbconvert_exporter": "python",
   "pygments_lexer": "ipython3",
   "version": "3.9.7"
  },
  "orig_nbformat": 4
 },
 "nbformat": 4,
 "nbformat_minor": 2
}
